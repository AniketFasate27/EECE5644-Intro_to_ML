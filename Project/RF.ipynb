{
 "cells": [
  {
   "cell_type": "code",
   "execution_count": null,
   "metadata": {},
   "outputs": [],
   "source": [
    "import pandas as pd\n",
    "from sklearn.model_selection import train_test_split\n",
    "from sklearn.ensemble import RandomForestClassifier\n",
    "from sklearn.metrics import root_mean_squared_error as rmse\n",
    "import matplotlib.pyplot as plt\n",
    "from sklearn.metrics import roc_auc_score,f1_score,accuracy_score\n",
    "import numpy as np\n",
    "from sklearn.preprocessing import label_binarize"
   ]
  },
  {
   "cell_type": "code",
   "execution_count": null,
   "metadata": {},
   "outputs": [],
   "source": [
    "X_path = r'D:\\NEU Notes\\EECE5644 - Intro to ML\\Project\\X_data.csv'\n",
    "y_path = r'D:\\NEU Notes\\EECE5644 - Intro to ML\\Project\\y_data.csv'\n",
    "label_path = r'D:\\NEU Notes\\EECE5644 - Intro to ML\\Project\\labels.csv'\n",
    "\n",
    "X = np.loadtxt(X_path, delimiter=',')\n",
    "y = np.loadtxt(y_path, delimiter=',')\n",
    "labels = np.loadtxt(label_path, dtype=str, delimiter=',')\n",
    "X = np.delete(X, 7, axis=1)     # Dropping Packet Delay Budget and Packet Loss Rate columns from the dataset\n",
    "X = np.delete(X, 6, axis=1)\n",
    "\n",
    "print(\"Dataset has n=%d samples, each with d=%d features,\" % X.shape,\"as well as %d labels.\" % y.shape[0])"
   ]
  },
  {
   "cell_type": "code",
   "execution_count": null,
   "metadata": {},
   "outputs": [],
   "source": [
    "# Training with full datasetand best model parameters\n",
    "X_train, X_test, y_train, y_test = train_test_split(X, y, test_size = 0.3, random_state = 42, stratify=y)"
   ]
  },
  {
   "cell_type": "code",
   "execution_count": null,
   "metadata": {},
   "outputs": [],
   "source": [
    "fracSize = int(X_train.shape[0]*0.1)\n",
    "training_rmse = []\n",
    "test_rmse = []\n",
    "\n",
    "for i in np.arange(0.1, 1.1, 0.1):\n",
    "    fracSize = int(X_train.shape[0]*i)\n",
    "    X_train_frac = X_train[0:fracSize,:]\n",
    "    y_train_frac = y_train[0:fracSize]\n",
    "\n",
    "    # Train the linear regression model\n",
    "    model = RandomForestClassifier(max_depth=5, min_samples_leaf=1, min_samples_split=2, n_estimators=9)\n",
    "    model.fit(X_train_frac, y_train_frac)\n",
    "\n",
    "    rmse_train = rmse(y_train_frac,model.predict(X_train_frac))\n",
    "    rmse_test = rmse(y_test,model.predict(X_test))\n",
    "\n",
    "    training_rmse.append(rmse_train)\n",
    "    test_rmse.append(rmse_test)\n"
   ]
  },
  {
   "cell_type": "code",
   "execution_count": null,
   "metadata": {},
   "outputs": [],
   "source": [
    "results_df = pd.DataFrame({\n",
    "    'Fraction %': np.arange(10, 110, 10),\n",
    "    'Training_RMSE': training_rmse,\n",
    "    'Test_RMSE': test_rmse\n",
    "})\n",
    "\n",
    "results_df"
   ]
  },
  {
   "cell_type": "code",
   "execution_count": null,
   "metadata": {},
   "outputs": [],
   "source": [
    "trainDataFraction = np.linspace(10, 110, 10)\n",
    "# Plotting\n",
    "plt.figure(figsize=(10, 6))\n",
    "plt.plot(trainDataFraction, training_rmse, label='Train RMSE', color='red')\n",
    "plt.plot(trainDataFraction, test_rmse, label='Test RMSE', color='green')\n",
    "\n",
    "# plt.fill_between(dates[window_size - 1:], upper_band, lower_band, color='lightgray', alpha=0.4, label='Bollinger Bands')\n",
    "plt.title('RMSE VS Training Data %')\n",
    "plt.xlabel('Train Data %')\n",
    "plt.ylabel('RMSE')\n",
    "plt.legend()\n",
    "plt.show()"
   ]
  },
  {
   "cell_type": "code",
   "execution_count": null,
   "metadata": {},
   "outputs": [],
   "source": [
    "# Implementing the model:\n",
    "# Training with full datasetand best model parameters\n",
    "X_train, X_test, y_train, y_test = train_test_split(X, y, test_size = 0.3, random_state = 21)\n",
    "\n",
    "print(\"X shape: \", X.shape)\n",
    "print(\"y shape: \", y.shape)\n",
    "\n",
    "model = RandomForestClassifier(max_depth=5, min_samples_leaf=1, min_samples_split=2, n_estimators=9)\n",
    "\n",
    "model.fit(X_train, y_train)\n",
    "y_pred =  model.predict(X_test) \n",
    "\n",
    "accuracy = acc = accuracy_score(y_test,y_pred)\n",
    "print(\"Accuracy:\", accuracy)\n",
    "\n",
    "f1_weighted = f1_score(y_test, y_pred, average='weighted')\n",
    "print(\"F1 Score (Weighted):\", f1_weighted)\n",
    "\n",
    "from sklearn.metrics import confusion_matrix\n",
    "cm = confusion_matrix(y_test,y_pred)\n",
    "print(\"Confusion matrix:\\n\",cm)"
   ]
  },
  {
   "cell_type": "code",
   "execution_count": null,
   "metadata": {},
   "outputs": [],
   "source": [
    "y_test2 = label_binarize(y_test, classes=[0, 1, 2])\n",
    "y_score = model.predict_proba(X_test)\n",
    "\n",
    "roc_auc = roc_auc_score(y_test2, y_score, multi_class='ovr', average='weighted')\n",
    "print(\"ROC AUC Score:\", roc_auc)"
   ]
  },
  {
   "cell_type": "code",
   "execution_count": null,
   "metadata": {},
   "outputs": [],
   "source": [
    "# Plotting ROC Curve (One to Rest)\n",
    "from sklearn.preprocessing import LabelBinarizer\n",
    "from itertools import cycle\n",
    "import matplotlib.pyplot as plt\n",
    "from sklearn.metrics import RocCurveDisplay\n",
    "\n",
    "n_classes = 3\n",
    "fig, ax = plt.subplots(figsize=(6, 6))\n",
    "\n",
    "label_binarizer = LabelBinarizer().fit(y_train)\n",
    "y_onehot_test = label_binarizer.transform(y_test)\n",
    "\n",
    "\"\"\"\n",
    "eMBB - 0\n",
    "mMTC - 1\n",
    "URLLC - 2\n",
    "\"\"\"\n",
    "colors = cycle([\"red\", \"green\", \"blue\"])\n",
    "for class_id, color in zip(range(n_classes), colors):\n",
    "    RocCurveDisplay.from_predictions(\n",
    "        y_onehot_test[:, class_id],\n",
    "        y_score[:, class_id],\n",
    "        name=f\"ROC curve for {labels[class_id]}\",\n",
    "        color=color,\n",
    "        ax=ax,\n",
    "        plot_chance_level=(class_id == 2),\n",
    "    )\n",
    "\n",
    "_ = ax.set(\n",
    "    xlabel=\"False Positive Rate\",\n",
    "    ylabel=\"True Positive Rate\",\n",
    "    title=\"Receiver Operating Characteristic\\n One-vs-Rest Multiclass\",\n",
    ")"
   ]
  }
 ],
 "metadata": {
  "kernelspec": {
   "display_name": "Python 3",
   "language": "python",
   "name": "python3"
  },
  "language_info": {
   "codemirror_mode": {
    "name": "ipython",
    "version": 3
   },
   "file_extension": ".py",
   "mimetype": "text/x-python",
   "name": "python",
   "nbconvert_exporter": "python",
   "pygments_lexer": "ipython3",
   "version": "3.8.19"
  }
 },
 "nbformat": 4,
 "nbformat_minor": 2
}
