{
 "cells": [
  {
   "cell_type": "code",
   "execution_count": null,
   "metadata": {},
   "outputs": [],
   "source": [
    "import pandas as pd\n",
    "import numpy as np\n",
    "\n",
    "df = pd.read_csv(r'C:\\Users\\anifa\\Desktop\\GITB\\EECE5644-Intro_to_ML\\Project\\Dataset\\5G_Dataset_Network_Slicing_CRAWDAD_Dataset.csv', dtype=str)\n",
    "\n",
    "df = df.drop(df.columns[0], axis=1)     # Deleting the empty column\n",
    "df = df.astype(str)\n",
    "\n",
    "\n",
    "# Transforming the categorical labels to numerical categories\n",
    "factor = pd.factorize(df['Slice Type (Output)'])\n",
    "y = np.array(factor[0])\n",
    "labels = factor[1]\n",
    "\n",
    "df = df.drop(df.columns[8], axis=1)\n",
    "\n",
    "X = []\n",
    "X_features = []\n",
    "\n",
    "# Transforming the categorical features to numerical categories\n",
    "for col in df:\n",
    "    fact = pd.factorize(df[col])\n",
    "    X.append(fact[0])\n",
    "    X_features.append(fact[1])\n",
    "\n",
    "X = np.array(X).T\n",
    "\n",
    "np.savetxt('X_data.csv', X, delimiter=',', fmt='%d')\n",
    "np.savetxt('y_data.csv', y, delimiter=',', fmt='%d')\n",
    "np.savetxt('labels.csv', labels, delimiter=',', fmt='%s')\n",
    "\n",
    "# Splitting the dataset to features and labels\n",
    "print(\"Data preprocessing complete.\")\n",
    "print(\"Dataset has n=%d samples, each with d=%d features,\" % X.shape,\"as well as %d labels.\" % y.shape[0])"
   ]
  }
 ],
 "metadata": {
  "kernelspec": {
   "display_name": "aniket",
   "language": "python",
   "name": "python3"
  },
  "language_info": {
   "codemirror_mode": {
    "name": "ipython",
    "version": 3
   },
   "file_extension": ".py",
   "mimetype": "text/x-python",
   "name": "python",
   "nbconvert_exporter": "python",
   "pygments_lexer": "ipython3",
   "version": "3.8.19"
  }
 },
 "nbformat": 4,
 "nbformat_minor": 2
}
