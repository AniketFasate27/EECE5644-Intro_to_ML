{
 "cells": [
  {
   "cell_type": "code",
   "execution_count": null,
   "metadata": {},
   "outputs": [],
   "source": [
    "import pandas as pd\n",
    "from sklearn.model_selection import train_test_split\n",
    "from sklearn.ensemble import RandomForestClassifier\n",
    "from sklearn.metrics import roc_auc_score,f1_score,accuracy_score\n",
    "from sklearn.preprocessing import label_binarize\n",
    "from sklearn.model_selection import GridSearchCV\n",
    "import numpy as np"
   ]
  },
  {
   "cell_type": "code",
   "execution_count": null,
   "metadata": {},
   "outputs": [],
   "source": [
    "X_path = r'C:\\Users\\anifa\\Desktop\\GITB\\EECE5644-Intro_to_ML\\Project\\Dataset\\X_data.csv'\n",
    "y_path = r'C:\\Users\\anifa\\Desktop\\GITB\\EECE5644-Intro_to_ML\\Project\\Dataset\\y_data.csv'\n",
    "label_path = r'C:\\Users\\anifa\\Desktop\\GITB\\EECE5644-Intro_to_ML\\Project\\Dataset\\labels.csv'\n",
    "\n",
    "X = np.loadtxt(X_path, delimiter=',')\n",
    "y = np.loadtxt(y_path, delimiter=',')\n",
    "labels = np.loadtxt(label_path, dtype=str, delimiter=',')\n",
    "X = np.delete(X, 7, axis=1)     # Dropping Packet Delay Budget and Packet Loss Rate columns from the dataset\n",
    "X = np.delete(X, 6, axis=1)\n",
    "dataset = np.column_stack((X, y))\n",
    "subset = dataset[np.random.choice(dataset.shape[0], size=100000, replace=False)]\n",
    "\n",
    "Xsub = subset[:,:6]\n",
    "ysub = subset[:,6]\n",
    "\n",
    "print(\"Dataset has n=%d samples, each with d=%d features,\" % X.shape,\"as well as %d labels.\" % y.shape[0])"
   ]
  },
  {
   "cell_type": "code",
   "execution_count": null,
   "metadata": {},
   "outputs": [],
   "source": [
    "X_train, X_test, y_train, y_test = train_test_split(Xsub, ysub, test_size = 0.3, random_state = 21)"
   ]
  },
  {
   "cell_type": "code",
   "execution_count": null,
   "metadata": {},
   "outputs": [],
   "source": [
    "# Fitting Random Forest Classification to the Training set\n",
    "classifier = RandomForestClassifier(criterion = 'entropy', random_state = 42)"
   ]
  },
  {
   "cell_type": "code",
   "execution_count": null,
   "metadata": {},
   "outputs": [],
   "source": [
    "# Performing Grid Search for hyper-parameter tuning\n",
    "param_grid = {\n",
    "    'n_estimators': range(1,10),\n",
    "    'max_depth': [5, 10, 15],\n",
    "    'min_samples_split': [2, 5, 10],\n",
    "    'min_samples_leaf': [1, 2, 4]\n",
    "}\n",
    "\n",
    "grid_search = GridSearchCV(estimator=classifier, param_grid=param_grid, cv=5, n_jobs=-1)"
   ]
  },
  {
   "cell_type": "code",
   "execution_count": null,
   "metadata": {},
   "outputs": [],
   "source": [
    "grid_search.fit(X_train, y_train)"
   ]
  },
  {
   "cell_type": "code",
   "execution_count": null,
   "metadata": {},
   "outputs": [],
   "source": [
    "modelPara = grid_search.best_params_\n",
    "print(\"Best Parameters:\", modelPara)\n",
    "best_model = grid_search.best_estimator_\n",
    "accuracy = best_model.score(X_test, y_test)\n",
    "print(\"Accuracy:\", accuracy)"
   ]
  },
  {
   "cell_type": "code",
   "execution_count": null,
   "metadata": {},
   "outputs": [],
   "source": [
    "# Training with full datasetand best model parameters\n",
    "X_train, X_test, y_train, y_test = train_test_split(X, y, test_size = 0.3, random_state = 21)\n",
    "\n",
    "print(\"X shape: \", X.shape)\n",
    "print(\"y shape: \", y.shape)\n",
    "\n",
    "model = RandomForestClassifier(max_depth=modelPara['max_depth'], min_samples_leaf=modelPara['min_samples_leaf'], min_samples_split=modelPara['min_samples_split'], n_estimators=modelPara['n_estimators'])\n",
    "\n",
    "model.fit(X_train, y_train)\n",
    "y_pred =  model.predict(X_test) \n",
    "\n",
    "print(\"Optimal Parameters:\",modelPara)\n",
    "\n",
    "accuracy = acc = accuracy_score(y_test,y_pred)\n",
    "print(\"Accuracy:\", accuracy)\n",
    "\n",
    "f1_weighted = f1_score(y_test, y_pred, average='weighted')\n",
    "print(\"F1 Score (Weighted):\", f1_weighted)\n",
    "\n",
    "from sklearn.metrics import confusion_matrix\n",
    "cm = confusion_matrix(y_test,y_pred)\n",
    "print(\"Confusion matrix:\\n\",cm)"
   ]
  },
  {
   "cell_type": "code",
   "execution_count": null,
   "metadata": {},
   "outputs": [],
   "source": [
    "y_test2 = label_binarize(y_test, classes=[0, 1, 2])\n",
    "y_score = model.predict_proba(X_test)\n",
    "\n",
    "roc_auc = roc_auc_score(y_test2, y_score, multi_class='ovr', average='weighted')\n",
    "print(\"ROC AUC Score:\", roc_auc)"
   ]
  },
  {
   "cell_type": "code",
   "execution_count": null,
   "metadata": {},
   "outputs": [],
   "source": [
    "# Plotting ROC Curve (One to Rest)\n",
    "from sklearn.preprocessing import LabelBinarizer\n",
    "from itertools import cycle\n",
    "import matplotlib.pyplot as plt\n",
    "from sklearn.metrics import RocCurveDisplay\n",
    "\n",
    "n_classes = 3\n",
    "fig, ax = plt.subplots(figsize=(6, 6))\n",
    "\n",
    "label_binarizer = LabelBinarizer().fit(y_train)\n",
    "y_onehot_test = label_binarizer.transform(y_test)\n",
    "\n",
    "\"\"\"\n",
    "eMBB - 0\n",
    "mMTC - 1\n",
    "URLLC - 2\n",
    "\"\"\"\n",
    "colors = cycle([\"red\", \"green\", \"blue\"])\n",
    "for class_id, color in zip(range(n_classes), colors):\n",
    "    RocCurveDisplay.from_predictions(\n",
    "        y_onehot_test[:, class_id],\n",
    "        y_score[:, class_id],\n",
    "        name=f\"ROC curve for {labels[class_id]}\",\n",
    "        color=color,\n",
    "        ax=ax,\n",
    "        plot_chance_level=(class_id == 2),\n",
    "    )\n",
    "\n",
    "_ = ax.set(\n",
    "    xlabel=\"False Positive Rate\",\n",
    "    ylabel=\"True Positive Rate\",\n",
    "    title=\"Receiver Operating Characteristic\\n One-vs-Rest Multiclass\",\n",
    ")"
   ]
  }
 ],
 "metadata": {
  "kernelspec": {
   "display_name": "Python 3",
   "language": "python",
   "name": "python3"
  },
  "language_info": {
   "codemirror_mode": {
    "name": "ipython",
    "version": 3
   },
   "file_extension": ".py",
   "mimetype": "text/x-python",
   "name": "python",
   "nbconvert_exporter": "python",
   "pygments_lexer": "ipython3",
   "version": "3.8.19"
  }
 },
 "nbformat": 4,
 "nbformat_minor": 2
}
